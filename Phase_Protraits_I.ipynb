{
  "nbformat": 4,
  "nbformat_minor": 0,
  "metadata": {
    "colab": {
      "name": "Phase Protraits I.ipynb",
      "provenance": [],
      "authorship_tag": "ABX9TyPpB+meDNHmjGD/3JgdvkhR",
      "include_colab_link": true
    },
    "kernelspec": {
      "name": "python3",
      "display_name": "Python 3"
    },
    "language_info": {
      "name": "python"
    }
  },
  "cells": [
    {
      "cell_type": "markdown",
      "metadata": {
        "id": "view-in-github",
        "colab_type": "text"
      },
      "source": [
        "<a href=\"https://colab.research.google.com/github/comphyorg/Phase-Analysis/blob/master/Phase_Protraits_I.ipynb\" target=\"_parent\"><img src=\"https://colab.research.google.com/assets/colab-badge.svg\" alt=\"Open In Colab\"/></a>"
      ]
    },
    {
      "cell_type": "code",
      "metadata": {
        "id": "7N1Dx7Ry3OAE"
      },
      "source": [
        "import numpy as np\n",
        "import matplotlib.pyplot as plt"
      ],
      "execution_count": null,
      "outputs": []
    },
    {
      "cell_type": "code",
      "metadata": {
        "id": "nxtmCN9m3TYX"
      },
      "source": [
        "# Given some limit of phase space, system of equation and initial condtions the function should give you \n",
        "#################################### Phase Portraits ################################################### \n",
        "\n",
        "\n",
        "# defining the derivatives. Matrix multiplication \n",
        "def sys(Y):\n",
        "    y1, y2 = Y\n",
        "    return  A[0,0]*y1 + A[0,1]*y2, A[1,0]*y1 + A[1,1]*y2\n",
        "\n",
        "\n",
        "def phase_portraits(f):\n",
        "    \n",
        "    # grid points for our spacial function quiver \n",
        "    y1 = np.linspace(-2*np.pi,2*np.pi , 50)\n",
        "    y2 = np.linspace(-2*np.pi, 2*np.pi, 50)\n",
        "    \n",
        "    # defining grid here, it will give you ordered pairs \n",
        "    Y1, Y2 = np.meshgrid(y1, y2)\n",
        "\n",
        "    \n",
        "    # defining the empty array for derivatives\n",
        "    u, v = np.zeros(Y1.shape), np.zeros(Y2.shape)\n",
        "    \n",
        "    # From the function passed which is essentially discribing your system, \n",
        "    # We are going to find derivative at each point so as to find the velocities. \n",
        "    for i in range(np.size(y1)):\n",
        "        for j in range(np.size(y2)):\n",
        "            u[i,j],v[i,j]= f([Y1[i, j], Y2[i, j]])   \n",
        "    \n",
        "    # Here, function f needs to give you speeds in different directions as a function of its position\n",
        "    # You can also simply give the matrix as parameter and manipulate it here to compute the velocities. \n",
        "\n",
        "    ############################################# Plotting ####################################################\n",
        "    ###########################################################################################################        \n",
        "    plt.figure()\n",
        "    S = plt.streamplot(Y1, Y2, u, v,color='r')\n",
        "    Q = plt.quiver(Y1, Y2, u, v,color='b')\n",
        "    plt.xlabel('$y_1$')\n",
        "    plt.ylabel('$y_2$')\n",
        "    plt.scatter(0,0)\n",
        "    plt.show()       "
      ],
      "execution_count": null,
      "outputs": []
    },
    {
      "cell_type": "code",
      "metadata": {
        "id": "BJYWMz7d3U-W"
      },
      "source": [
        "# Since any system is recognized by the matrix A, we'll define here a random matrix.\n",
        "\n",
        "A = np.matrix([[-.5, 1],[-1, -.5]])\n",
        "phase_portraits(sys)"
      ],
      "execution_count": null,
      "outputs": []
    }
  ]
}